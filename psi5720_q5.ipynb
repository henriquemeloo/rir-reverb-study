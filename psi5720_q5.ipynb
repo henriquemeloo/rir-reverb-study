{
 "cells": [
  {
   "cell_type": "markdown",
   "metadata": {},
   "source": [
    "# PSI5720 - Questionnaire 5\n",
    "<center>\n",
    "    Henrique Souza de Melo<br>\n",
    "    9347031<br>\n",
    "    henrique.souza.melo@usp.br\n",
    "<\\center>"
   ]
  },
  {
   "cell_type": "code",
   "execution_count": null,
   "metadata": {},
   "outputs": [],
   "source": [
    "from itertools import product\n",
    "\n",
    "from utils import *\n",
    "\n",
    "\n",
    "plt.rcParams.update({'font.size': 16})\n",
    "\n",
    "\n",
    "fs = 44100"
   ]
  },
  {
   "cell_type": "markdown",
   "metadata": {},
   "source": [
    "## Exercise 1"
   ]
  },
  {
   "cell_type": "code",
   "execution_count": null,
   "metadata": {},
   "outputs": [],
   "source": [
    "plot_filter_bank(fs, fname='filter_bank')"
   ]
  },
  {
   "cell_type": "markdown",
   "metadata": {},
   "source": [
    "## Exercise 2"
   ]
  },
  {
   "cell_type": "markdown",
   "metadata": {},
   "source": [
    "### a)"
   ]
  },
  {
   "cell_type": "markdown",
   "metadata": {},
   "source": [
    "- Room 1: [Falkland Palace Royal Tennis Court](https://openairlib.net/?page_id=476)\n",
    "- Room 2: [Genesis 6 Studio – Live Room Drum Set Up - snare position](https://openairlib.net/?page_id=483)\n",
    "- Room 3: [The Shrine and Parish Church of All Saints North Street - altar to mid-left](https://openairlib.net/?page_id=644)"
   ]
  },
  {
   "cell_type": "markdown",
   "metadata": {},
   "source": [
    "### b)"
   ]
  },
  {
   "cell_type": "code",
   "execution_count": null,
   "metadata": {},
   "outputs": [],
   "source": [
    "fcs = [125, 250, 500, 1000, 2000, 4000]\n",
    "rooms = ['1-tennis', '2-drums', '3-shrine']\n",
    "t60 = pd.DataFrame(index=fcs, columns=rooms)\n",
    "for room in rooms:\n",
    "    rir = load_wav(f'./input/rir/{room}.wav', fs)\n",
    "    for fc in fcs:\n",
    "        t = calculate_t60(rir, fs, fc)\n",
    "        t60.loc[fc, room] = t\n",
    "    website = pd.read_csv(f'./input/rir/{room}.csv', usecols=['band', 't60'], index_col='band')\n",
    "    t60 = t60.merge(website, left_index=True, right_index=True).rename(columns={\n",
    "        't60': f'{room}_website'\n",
    "    })\n",
    "    t60[f'{room}_error (%)'] = 100 * (np.abs(t60[f'{room}'] - t60[f'{room}_website'])\n",
    "                                      / t60[f'{room}_website'])\n",
    "t60"
   ]
  },
  {
   "cell_type": "code",
   "execution_count": null,
   "metadata": {},
   "outputs": [],
   "source": [
    "caption = 'Calculated reverberation time compared to the available on the website for each room.'\n",
    "print(t60[[\n",
    "    '1-tennis', '1-tennis_website', '1-tennis_error (%)',\n",
    "    '2-drums', '2-drums_website', '2-drums_error (%)',\n",
    "    '3-shrine', '3-shrine_website', '3-shrine_error (%)',\n",
    "]].to_latex(caption=caption, label='tab:t60', float_format=\"{:0.2f}\".format))"
   ]
  },
  {
   "cell_type": "markdown",
   "metadata": {},
   "source": [
    "### c)"
   ]
  },
  {
   "cell_type": "code",
   "execution_count": null,
   "metadata": {},
   "outputs": [],
   "source": [
    "fcs = [125, 250, 500, 1000, 2000, 4000]\n",
    "rooms = ['1-tennis', '2-drums', '3-shrine']\n",
    "c80 = pd.DataFrame(index=fcs, columns=rooms)\n",
    "for room in rooms:\n",
    "    rir = load_wav(f'./input/rir/{room}.wav', fs)\n",
    "    for fc in fcs:\n",
    "        c = calculate_c80(rir, fs, fc)\n",
    "        c80.loc[fc, room] = c\n",
    "    baseline = pd.read_csv(f'./input/rir/{room}.csv', usecols=['band', 'c80'], index_col='band')\n",
    "    c80 = c80.merge(baseline, left_index=True, right_index=True).rename(columns={\n",
    "        'c80': f'{room}_website'\n",
    "    })\n",
    "    c80[f'{room}_error (%)'] = 100 * np.abs((c80[f'{room}'] - c80[f'{room}_website'])\n",
    "                                            / c80[f'{room}_website'])\n",
    "c80"
   ]
  },
  {
   "cell_type": "code",
   "execution_count": null,
   "metadata": {},
   "outputs": [],
   "source": [
    "print(c80[[\n",
    "    '1-tennis', '1-tennis_website', '1-tennis_error (%)',\n",
    "    '2-drums', '2-drums_website', '2-drums_error (%)',\n",
    "    '3-shrine', '3-shrine_website', '3-shrine_error (%)',\n",
    "]].to_latex(float_format=\"{:0.2f}\".format))"
   ]
  },
  {
   "cell_type": "code",
   "execution_count": null,
   "metadata": {},
   "outputs": [],
   "source": [
    "fcs = [125, 250, 500, 1000, 2000, 4000]\n",
    "rooms = ['1-tennis', '2-drums', '3-shrine']\n",
    "d50 = pd.DataFrame(index=fcs, columns=rooms)\n",
    "for room in rooms:\n",
    "    rir = load_wav(f'./input/rir/{room}.wav', fs)\n",
    "    for fc in fcs:\n",
    "        c = calculate_d50(rir, fs, fc)\n",
    "        d50.loc[fc, room] = c\n",
    "    baseline = pd.read_csv(f'./input/rir/{room}.csv', usecols=['band', 'd50'], index_col='band')\n",
    "    baseline['d50'] = 10 * np.log10(baseline['d50'])\n",
    "    d50 = d50.merge(baseline, left_index=True, right_index=True).rename(columns={\n",
    "        'd50': f'{room}_website'\n",
    "    })\n",
    "    d50[f'{room}_error (%)'] = np.abs(100 * (d50[f'{room}'] - d50[f'{room}_website'])\n",
    "                                      / d50[f'{room}_website'])\n",
    "d50"
   ]
  },
  {
   "cell_type": "code",
   "execution_count": null,
   "metadata": {},
   "outputs": [],
   "source": [
    "print(d50[[\n",
    "    '1-tennis', '1-tennis_website', '1-tennis_error (%)',\n",
    "    '2-drums', '2-drums_website', '2-drums_error (%)',\n",
    "    '3-shrine', '3-shrine_website', '3-shrine_error (%)',\n",
    "]].to_latex(float_format=\"{:0.2f}\".format))"
   ]
  },
  {
   "cell_type": "markdown",
   "metadata": {},
   "source": [
    "### d)"
   ]
  },
  {
   "cell_type": "code",
   "execution_count": null,
   "metadata": {},
   "outputs": [],
   "source": [
    "tennis = load_wav('./input/rir/1-tennis.wav', fs, plot=True)\n",
    "drums = load_wav('./input/rir/2-drums.wav', fs, plot=True)\n",
    "shrine = load_wav('./input/rir/3-shrine.wav', fs, plot=True)"
   ]
  },
  {
   "cell_type": "markdown",
   "metadata": {},
   "source": [
    "#### Orchestra"
   ]
  },
  {
   "cell_type": "code",
   "execution_count": null,
   "metadata": {},
   "outputs": [],
   "source": [
    "orchestra, player = load_wav('./input/audio/CandideOverture_Intro.wav', fs, play=True)\n",
    "player"
   ]
  },
  {
   "cell_type": "markdown",
   "metadata": {},
   "source": [
    "##### @ tennis"
   ]
  },
  {
   "cell_type": "code",
   "execution_count": null,
   "metadata": {},
   "outputs": [],
   "source": [
    "_, player = reverb(orchestra, tennis, fs)\n",
    "player"
   ]
  },
  {
   "cell_type": "markdown",
   "metadata": {},
   "source": [
    "##### @ drums"
   ]
  },
  {
   "cell_type": "code",
   "execution_count": null,
   "metadata": {},
   "outputs": [],
   "source": [
    "_, player = reverb(orchestra, drums, fs)\n",
    "player"
   ]
  },
  {
   "cell_type": "markdown",
   "metadata": {},
   "source": [
    "##### @ shrine"
   ]
  },
  {
   "cell_type": "code",
   "execution_count": null,
   "metadata": {},
   "outputs": [],
   "source": [
    "_, player = reverb(orchestra, shrine, fs)\n",
    "player"
   ]
  },
  {
   "cell_type": "markdown",
   "metadata": {},
   "source": [
    "#### Samba"
   ]
  },
  {
   "cell_type": "code",
   "execution_count": null,
   "metadata": {},
   "outputs": [],
   "source": [
    "samba, player = load_wav('./input/audio/VizinhaDoLado_intro.wav', fs, play=True)\n",
    "player"
   ]
  },
  {
   "cell_type": "markdown",
   "metadata": {},
   "source": [
    "##### @ tennis"
   ]
  },
  {
   "cell_type": "code",
   "execution_count": null,
   "metadata": {},
   "outputs": [],
   "source": [
    "_, player = reverb(samba, tennis, fs)\n",
    "player"
   ]
  },
  {
   "cell_type": "markdown",
   "metadata": {},
   "source": [
    "##### @ drums"
   ]
  },
  {
   "cell_type": "code",
   "execution_count": null,
   "metadata": {},
   "outputs": [],
   "source": [
    "_, player = reverb(samba, drums, fs)\n",
    "player"
   ]
  },
  {
   "cell_type": "markdown",
   "metadata": {},
   "source": [
    "##### @ shrine"
   ]
  },
  {
   "cell_type": "code",
   "execution_count": null,
   "metadata": {},
   "outputs": [],
   "source": [
    "_, player = reverb(samba, shrine, fs)\n",
    "player"
   ]
  },
  {
   "cell_type": "markdown",
   "metadata": {},
   "source": [
    "#### Jazz"
   ]
  },
  {
   "cell_type": "code",
   "execution_count": null,
   "metadata": {},
   "outputs": [],
   "source": [
    "jazz, player = load_wav('./input/audio/WAWW_intro.wav', fs, play=True)\n",
    "player"
   ]
  },
  {
   "cell_type": "markdown",
   "metadata": {},
   "source": [
    "##### @ tennis"
   ]
  },
  {
   "cell_type": "code",
   "execution_count": null,
   "metadata": {},
   "outputs": [],
   "source": [
    "_, player = reverb(jazz, tennis, fs)\n",
    "player"
   ]
  },
  {
   "cell_type": "markdown",
   "metadata": {},
   "source": [
    "##### @ drums"
   ]
  },
  {
   "cell_type": "code",
   "execution_count": null,
   "metadata": {},
   "outputs": [],
   "source": [
    "_, player = reverb(jazz, drums, fs)\n",
    "player"
   ]
  },
  {
   "cell_type": "markdown",
   "metadata": {},
   "source": [
    "##### @ shrine"
   ]
  },
  {
   "cell_type": "code",
   "execution_count": null,
   "metadata": {},
   "outputs": [],
   "source": [
    "_, player = reverb(jazz, shrine, fs)\n",
    "player"
   ]
  },
  {
   "cell_type": "markdown",
   "metadata": {},
   "source": [
    "#### Voice"
   ]
  },
  {
   "cell_type": "code",
   "execution_count": null,
   "metadata": {},
   "outputs": [],
   "source": [
    "voice, player = load_wav('./input/audio/Neymar_RogerioAssis_Gol.wav', fs, play=True)\n",
    "player"
   ]
  },
  {
   "cell_type": "markdown",
   "metadata": {},
   "source": [
    "##### @ tennis"
   ]
  },
  {
   "cell_type": "code",
   "execution_count": null,
   "metadata": {},
   "outputs": [],
   "source": [
    "_, player = reverb(voice, tennis, fs)\n",
    "player"
   ]
  },
  {
   "cell_type": "markdown",
   "metadata": {},
   "source": [
    "##### @ drums"
   ]
  },
  {
   "cell_type": "code",
   "execution_count": null,
   "metadata": {},
   "outputs": [],
   "source": [
    "_, player = reverb(voice, drums, fs)\n",
    "player"
   ]
  },
  {
   "cell_type": "markdown",
   "metadata": {},
   "source": [
    "##### @ shrine"
   ]
  },
  {
   "cell_type": "code",
   "execution_count": null,
   "metadata": {},
   "outputs": [],
   "source": [
    "_, player = reverb(voice, shrine, fs)\n",
    "player"
   ]
  },
  {
   "cell_type": "markdown",
   "metadata": {},
   "source": [
    "#### Roundabout"
   ]
  },
  {
   "cell_type": "code",
   "execution_count": null,
   "metadata": {},
   "outputs": [],
   "source": [
    "roundabout, player = load_wav('./input/audio/Roundabout.wav', fs, play=True)\n",
    "player"
   ]
  },
  {
   "cell_type": "markdown",
   "metadata": {},
   "source": [
    "##### @ tennis"
   ]
  },
  {
   "cell_type": "code",
   "execution_count": null,
   "metadata": {},
   "outputs": [],
   "source": [
    "_, player = reverb(roundabout, tennis, fs)\n",
    "player"
   ]
  },
  {
   "cell_type": "markdown",
   "metadata": {},
   "source": [
    "##### @ drums"
   ]
  },
  {
   "cell_type": "code",
   "execution_count": null,
   "metadata": {},
   "outputs": [],
   "source": [
    "_, player = reverb(roundabout, drums, fs)\n",
    "player"
   ]
  },
  {
   "cell_type": "markdown",
   "metadata": {},
   "source": [
    "##### @ shrine"
   ]
  },
  {
   "cell_type": "code",
   "execution_count": null,
   "metadata": {},
   "outputs": [],
   "source": [
    "_, player = reverb(roundabout, shrine, fs)\n",
    "player"
   ]
  },
  {
   "cell_type": "markdown",
   "metadata": {},
   "source": [
    "### e)"
   ]
  },
  {
   "cell_type": "code",
   "execution_count": null,
   "metadata": {},
   "outputs": [],
   "source": [
    "br_tr = pd.DataFrame(columns=rooms, index=['BR', 'TR'])\n",
    "for room in rooms:\n",
    "    br_tr.loc['BR', room] = (\n",
    "        (t60.loc[125, room] + t60.loc[250, room]) /\n",
    "        (t60.loc[500, room] + t60.loc[1000, room])\n",
    "    )\n",
    "    br_tr.loc['TR', room] = (\n",
    "        (t60.loc[2000, room] + t60.loc[4000, room]) /\n",
    "        (t60.loc[500, room] + t60.loc[1000, room])\n",
    "    )\n",
    "caption = 'Bass ratio (BR) and treble ratio (TR) for each of the rooms.'\n",
    "print(br_tr.to_latex(caption=caption, label='tab:br_tr', float_format=\"{:0.2f}\".format))"
   ]
  }
 ],
 "metadata": {
  "kernelspec": {
   "display_name": "Python 3",
   "language": "python",
   "name": "python3"
  },
  "language_info": {
   "codemirror_mode": {
    "name": "ipython",
    "version": 3
   },
   "file_extension": ".py",
   "mimetype": "text/x-python",
   "name": "python",
   "nbconvert_exporter": "python",
   "pygments_lexer": "ipython3",
   "version": "3.8.2"
  }
 },
 "nbformat": 4,
 "nbformat_minor": 4
}
